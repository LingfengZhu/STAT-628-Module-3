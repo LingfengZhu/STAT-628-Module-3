{
 "cells": [
  {
   "cell_type": "markdown",
   "metadata": {
    "colab_type": "text",
    "id": "Pt93lUq79D52"
   },
   "source": [
    "# Introduction and Dataset"
   ]
  },
  {
   "cell_type": "markdown",
   "metadata": {
    "colab_type": "text",
    "id": "XzZWl2aw9D56"
   },
   "source": [
    "## Introduction\n",
    "\n",
    "Yelp is a business directory service and crowd-sourced review forum which allows users to give reviews to businesses based on their own experience. It's easy for human to understand the sentiment behind the reviews, specifically whether a review is positive or negative, even without having any context about the business. However, there is a huge amount of reviews data on yelp, it's not realistic for business owners to go through every review by themselves to improve their performance. \n",
    "\n",
    "Our project is aimed to:\n",
    "\n",
    "1.\tProvide useful, analytical insights to business owners on Yelp and, based on these insights, propose data-driven, actionable decisions to said owners in order to improve their ratings in Yelp. \n",
    "2.\tBuild a web dashboard/widget/web application that visualizes your analysis and makes it easier to understand for business owners"
   ]
  },
  {
   "cell_type": "markdown",
   "metadata": {
    "colab_type": "text",
    "id": "bXs3gDhC9D57"
   },
   "source": [
    "## The Dataset\n",
    "There are four datasets provided, business data, review data, tip data, and user data. We are going to focus on the analysis of attributes in the business data and the review texts in the review data of all the mexican restaurant.\n",
    "\n",
    "For the **business data**, there are 4628 businesses who are categorized as mexican restaurant, we transform all the attributes into data frame and filter out the attributes with more than 90% of missing and impute the rest of missing values by using KNN (which use the majority value of the nearest 5 neighbors to substitute the missing value). Then we build linear model based on the clean business data, and give recommendations after conducting the $\\chi^2$ test. The clean data include the following 40 variables:\n",
    "\n",
    "|     |  |  |  |  |  |  |  |  |  |\n",
    "|------|------|------|------|------|------|------|------|------|------|\n",
    "|   business_id  | name | latitude | longitude | stars | review_count | is_open | WheelchairAccessible | RestaurantsTakeOut | RestaurantsGoodForGroups |\n",
    "| romantic | intimate | classy |  hipster  | divey | touristy | trendy |  OutdoorSeating | RestaurantsTableService | RestaurantsDelivery |\n",
    "| upscale | casual | dessert | latenight | lunch | dinner | brunch  |  breakfast | RestaurantsPriceRange2 |BusinessAcceptsCreditCards | \n",
    "| BikeParking | GoodForKids |  Caters  | NoiseLevel | HasTV | WiFi | Alcohol | park | RestaurantsReservations |  RestaurantsAttire | \n",
    "\n",
    "For the **reviews data**, there are 403941 reviews which belong to mexican restaurants. We tokenize/lowercase/lemmatize the review text and extract the top 1000 most frequent words. Following that, we mannully pick up 49 food/service words that make sense for analysis, which are \n",
    "\n",
    "|     |  |  |  |  |  |  |  |  |  |\n",
    "|------|------|------|------|------|------|------|------|------|------|\n",
    "|   taco  | burrito | salsa | chips | rice | guacamole | asada | chipotle | tortilla | salad |\n",
    "| nacho | enchilada | meat |  time  | chicken | fish | shrimp |  beef | pork | steak |\n",
    "| service | wait | minute | staff | waitress | waiter | atmosphere  |  price | internet |wifi | \n",
    "| noisy | noise |  breakfast  | lunch | dinner | line | drink | margarita | table |  fries | \n",
    "| manager | beer |  patio  | bacon | vegan | quesadilla | fajita | chile | enchilada |   | \n",
    "\n",
    "Then we give recommendations based on our analysis of these words."
   ]
  },
  {
   "cell_type": "markdown",
   "metadata": {
    "colab_type": "text",
    "id": "kR4Xcyfi9D58"
   },
   "source": [
    "# EDA"
   ]
  },
  {
   "cell_type": "markdown",
   "metadata": {
    "colab_type": "text",
    "id": "l0eHf_RRLivJ"
   },
   "source": [
    "The details of EDA can be found in the file, \"EDA_summary.pdf\"."
   ]
  },
  {
   "cell_type": "markdown",
   "metadata": {
    "colab_type": "text",
    "id": "C4c8TSb79D59"
   },
   "source": [
    "# Recommendation Based on Business Attributes"
   ]
  },
  {
   "cell_type": "markdown",
   "metadata": {
    "colab_type": "text",
    "id": "qFk4VIvv9D59"
   },
   "source": [
    "## Imputation: KNN\n",
    "Since there are many missing values in attributes of businesses, we need to impute the missing values. We use KNN model to perform the imputation: \n",
    "* Distance measure: Gower distance\n",
    "* Hyper-parameter: k = 5\n",
    "* Voting method: majority voting\n",
    "\n",
    "## Linear Regression\n",
    "We fit a stepwise linear regression (using AIC as criterion) with the following formula:\n",
    "$$rating \\sim attributes$$ \n",
    "The following table shows the summary table of significant predictors.\n",
    "<img style=\"float: center;\" src=\"image/summary.jpg\" width=\"60%\">\n",
    "\n",
    "## $\\chi^2$ test\n",
    "Considering businesses with 3.5\\~5.0 stars as positive ones, businesses with 1.0\\~3.0 stars as negative ones, we performed $\\chi^2$ test for attributes cross ratings and dropped attributes that were not significant (we dropped **OutDoorSeating**, **WiFi** and **GoodForKids**):\n",
    "<img style=\"float: center;\" src=\"image/matrices.png\" width=\"80%\">\n",
    "\n",
    "\n",
    "Some continuous tables for siginificant attributes are as following:\n",
    "<img style=\"float: center;\" src=\"image/chisq.jpg\" width=\"40%\">\n",
    "\n",
    "## Recommandations\n",
    "Divide the significant predictors into two lists: one for positive predictors (contains the predictors with positive coefficients), the other for negative predictors (contains the predictors with negative coefficients). We will give the business owners suggestions based on such results: \n",
    "<img style=\"float: center;\" src=\"image/list.jpg\" width=\"40%\">\n",
    "\n",
    "\n",
    "Take business **Taco Bell** (business ID: 1Dfx3zM-rW4n-31KeC8sJg) as example, we can give the owner sugestions as following: \n",
    "* \n",
    "*\n",
    "* \n",
    "*  "
   ]
  },
  {
   "cell_type": "markdown",
   "metadata": {
    "colab_type": "text",
    "id": "bP0gJLPf9D5-"
   },
   "source": [
    "# Recommendation Based on Review Texts"
   ]
  },
  {
   "cell_type": "markdown",
   "metadata": {
    "colab_type": "text",
    "id": "ZEeiiWY79D5_"
   },
   "source": [
    "We tokenize/lowercase/lemmatize the review text and extract the top 1000 most frequent words. Following that, we mannully pick up 49 words which describe food/service in the restaurants, and build the contigency table for each of them:\n",
    "\n",
    "|     |  |  |\n",
    "|------|------|------|\n",
    "|     | Rating Positive |Rating Negative |\n",
    "|   Taco Positive  | 11832 |4577 |\n",
    "|   Taco Negative  | 949 |1551 |\n",
    "\n",
    "\n",
    "The way how we define positive or negative of a word is to pick the former and latter 3 words, if the majority of these 6 words are positive \n",
    "\n",
    "Then, we conduct the $\\chi^2$ testing to test the significance of each word. After that, we got a significant wordlist."
   ]
  },
  {
   "cell_type": "markdown",
   "metadata": {
    "colab_type": "text",
    "id": "Q6z9zouHQhXs"
   },
   "source": [
    "We classify the reviews of each business into two catefories, positive reviews and negative reviews, and use *TF-IDF* to extract the 100 most frequent words in these two categories. With the signigicant wordlist in the previous step, we find the intersection of the significant wordlist and the 100 most frequent words in positive reviews or negative reviews respectively. Finally, we give recommendations based on this list."
   ]
  },
  {
   "cell_type": "markdown",
   "metadata": {
    "colab_type": "text",
    "id": "MULmX_289D5_"
   },
   "source": [
    "# Shiny App"
   ]
  },
  {
   "cell_type": "markdown",
   "metadata": {
    "colab_type": "text",
    "id": "kwPdXC1a9D6B"
   },
   "source": [
    "# Contributions"
   ]
  },
  {
   "cell_type": "markdown",
   "metadata": {
    "colab_type": "text",
    "id": "wuo4zv189D6C"
   },
   "source": [
    "Han Liao and Lingfeng Zhu: Generate recommendations based on business attributes. \n",
    "\n",
    "Qiaochu Yu and Yujie Zhang: Recommendations based on review data.\n",
    "\n",
    "Summary and app are developed by all the members."
   ]
  },
  {
   "cell_type": "markdown",
   "metadata": {
    "colab_type": "text",
    "id": "eEUhTBv39D6D"
   },
   "source": [
    "# References"
   ]
  },
  {
   "cell_type": "markdown",
   "metadata": {
    "colab_type": "text",
    "id": "WhaI45rw9D6E"
   },
   "source": []
  }
 ],
 "metadata": {
  "colab": {
   "collapsed_sections": [],
   "name": "679_module3_Tue_group_7.ipynb",
   "provenance": []
  },
  "hide_input": false,
  "kernelspec": {
   "display_name": "R",
   "language": "R",
   "name": "ir"
  },
  "language_info": {
   "codemirror_mode": "r",
   "file_extension": ".r",
   "mimetype": "text/x-r-source",
   "name": "R",
   "pygments_lexer": "r",
   "version": "3.5.3"
  }
 },
 "nbformat": 4,
 "nbformat_minor": 1
}

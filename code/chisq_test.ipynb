{
 "cells": [
  {
   "cell_type": "code",
   "execution_count": 41,
   "metadata": {},
   "outputs": [],
   "source": [
    "senti=read.csv(\"senti.csv\",header=T)"
   ]
  },
  {
   "cell_type": "code",
   "execution_count": 42,
   "metadata": {},
   "outputs": [],
   "source": [
    "senti=senti[,-1]"
   ]
  },
  {
   "cell_type": "code",
   "execution_count": 44,
   "metadata": {},
   "outputs": [],
   "source": [
    "chi.test=function(category){\n",
    "    for (categories in category){\n",
    "        test_matrix=matrix(unlist(senti[senti$name==categories,-1]),nrow=2,ncol=2,byrow=T)\n",
    "        result=chisq.test(test_matrix)\n",
    "        cat(\"The p-value of the Chisquare test for category \",categories,\" is \",result$p.value,\"\\n\")\n",
    "    }\n",
    "}"
   ]
  },
  {
   "cell_type": "code",
   "execution_count": 45,
   "metadata": {},
   "outputs": [],
   "source": [
    "cate=c('taco','salsa','chips','burrito','rice','guacamole','asada','tortilla','salad','nacho','enchiladas','meat','chicken','fish','shrimp','beef','pork','steak','cheese','beans','sauce','corn','vegan','service','time','wait','minutes','waiter','waitress','bar','drinks','margarita','lunch','night','dinner','location','hot','spicy','atmosphere','price')"
   ]
  },
  {
   "cell_type": "code",
   "execution_count": 46,
   "metadata": {},
   "outputs": [
    {
     "name": "stdout",
     "output_type": "stream",
     "text": [
      "The p-value of the Chisquare test for category  taco  is  8.863176e-253 \n",
      "The p-value of the Chisquare test for category  salsa  is  0 \n",
      "The p-value of the Chisquare test for category  chips  is  5.044481e-286 \n",
      "The p-value of the Chisquare test for category  burrito  is  3.513121e-238 \n",
      "The p-value of the Chisquare test for category  rice  is  6.259308e-111 \n",
      "The p-value of the Chisquare test for category  guacamole  is  6.161566e-128 \n",
      "The p-value of the Chisquare test for category  asada  is  1.417455e-117 \n",
      "The p-value of the Chisquare test for category  tortilla  is  2.537549e-98 \n",
      "The p-value of the Chisquare test for category  salad  is  5.854473e-63 \n",
      "The p-value of the Chisquare test for category  nacho  is  5.715496e-11 \n",
      "The p-value of the Chisquare test for category  enchiladas  is  1.396249e-111 \n",
      "The p-value of the Chisquare test for category  meat  is  2.095187e-272 \n",
      "The p-value of the Chisquare test for category  chicken  is  4.598458e-199 \n",
      "The p-value of the Chisquare test for category  fish  is  2.491801e-103 \n",
      "The p-value of the Chisquare test for category  shrimp  is  8.936609e-93 \n",
      "The p-value of the Chisquare test for category  beef  is  1.185658e-60 \n",
      "The p-value of the Chisquare test for category  pork  is  2.674409e-22 \n",
      "The p-value of the Chisquare test for category  steak  is  3.846883e-69 \n",
      "The p-value of the Chisquare test for category  cheese  is  3.910058e-92 \n",
      "The p-value of the Chisquare test for category  beans  is  2.108132e-155 \n",
      "The p-value of the Chisquare test for category  sauce  is  6.996572e-97 \n",
      "The p-value of the Chisquare test for category  corn  is  6.991659e-49 \n",
      "The p-value of the Chisquare test for category  vegan  is  1.390877e-06 \n",
      "The p-value of the Chisquare test for category  service  is  0 \n",
      "The p-value of the Chisquare test for category  time  is  0 \n",
      "The p-value of the Chisquare test for category  wait  is  3.660042e-193 \n",
      "The p-value of the Chisquare test for category  minutes  is  8.940988e-26 \n",
      "The p-value of the Chisquare test for category  waiter  is  1.526646e-146 \n",
      "The p-value of the Chisquare test for category  waitress  is  7.486911e-165 \n",
      "The p-value of the Chisquare test for category  bar  is  1.283802e-142 \n",
      "The p-value of the Chisquare test for category  drinks  is  5.507626e-250 \n",
      "The p-value of the Chisquare test for category  margarita  is  3.003652e-83 \n",
      "The p-value of the Chisquare test for category  lunch  is  9.251961e-96 \n",
      "The p-value of the Chisquare test for category  night  is  2.243654e-145 \n",
      "The p-value of the Chisquare test for category  dinner  is  3.166505e-87 \n",
      "The p-value of the Chisquare test for category  location  is  1.990118e-211 \n",
      "The p-value of the Chisquare test for category  hot  is  2.106361e-83 \n",
      "The p-value of the Chisquare test for category  spicy  is  4.771996e-19 \n",
      "The p-value of the Chisquare test for category  atmosphere  is  1.621133e-100 \n",
      "The p-value of the Chisquare test for category  price  is  1.300545e-71 \n"
     ]
    }
   ],
   "source": [
    "chi.test(cate)"
   ]
  }
 ],
 "metadata": {
  "kernelspec": {
   "display_name": "R",
   "language": "R",
   "name": "ir"
  },
  "language_info": {
   "codemirror_mode": "r",
   "file_extension": ".r",
   "mimetype": "text/x-r-source",
   "name": "R",
   "pygments_lexer": "r",
   "version": "3.6.1"
  }
 },
 "nbformat": 4,
 "nbformat_minor": 2
}

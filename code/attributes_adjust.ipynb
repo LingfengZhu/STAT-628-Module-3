{
 "cells": [
  {
   "cell_type": "code",
   "execution_count": 1,
   "metadata": {},
   "outputs": [],
   "source": [
    "# load the data from .json files\n",
    "def load_json(filename):\n",
    "    '''\n",
    "    Load the give .json files to a data frame for STAT-628-Module-3\n",
    "    '''\n",
    "    res = [] # list of dicts\n",
    "    with open(filename, 'r') as f:\n",
    "        try:\n",
    "            while True:\n",
    "                line = f.readline()\n",
    "                if line:\n",
    "                    res.append(json.loads(line))\n",
    "                    del line\n",
    "                else:\n",
    "                    break\n",
    "        except:\n",
    "            f.close()\n",
    "    \n",
    "    output = pd.DataFrame.from_dict(res) # list of dicts -> data frame\n",
    "    del res\n",
    "\n",
    "    return output"
   ]
  },
  {
   "cell_type": "code",
   "execution_count": 2,
   "metadata": {},
   "outputs": [
    {
     "name": "stderr",
     "output_type": "stream",
     "text": [
      "Using TensorFlow backend.\n"
     ]
    }
   ],
   "source": [
    "import os\n",
    "import json\n",
    "import pandas as pd\n",
    "import numpy as np\n",
    "import seaborn as sns\n",
    "import matplotlib.pyplot as plt\n",
    "import keras\n",
    "import ast"
   ]
  },
  {
   "cell_type": "code",
   "execution_count": 3,
   "metadata": {},
   "outputs": [],
   "source": [
    "# load business file into a data frame\n",
    "business = load_json('data/business.json')\n",
    "# business.head(2)"
   ]
  },
  {
   "cell_type": "code",
   "execution_count": 4,
   "metadata": {},
   "outputs": [],
   "source": [
    "att = business['attributes']\n",
    "att = att.dropna()\n",
    "keys = set()\n",
    "for a in att:\n",
    "    for key,value in a.items():\n",
    "        keys.add(key)\n",
    "# keys"
   ]
  },
  {
   "cell_type": "code",
   "execution_count": 87,
   "metadata": {
    "scrolled": false
   },
   "outputs": [
    {
     "data": {
      "text/html": [
       "<div>\n",
       "<style scoped>\n",
       "    .dataframe tbody tr th:only-of-type {\n",
       "        vertical-align: middle;\n",
       "    }\n",
       "\n",
       "    .dataframe tbody tr th {\n",
       "        vertical-align: top;\n",
       "    }\n",
       "\n",
       "    .dataframe thead th {\n",
       "        text-align: right;\n",
       "    }\n",
       "</style>\n",
       "<table border=\"1\" class=\"dataframe\">\n",
       "  <thead>\n",
       "    <tr style=\"text-align: right;\">\n",
       "      <th></th>\n",
       "      <th>GoodForKids</th>\n",
       "      <th>RestaurantsReservations</th>\n",
       "      <th>GoodForMeal</th>\n",
       "      <th>BusinessParking</th>\n",
       "      <th>Caters</th>\n",
       "      <th>NoiseLevel</th>\n",
       "      <th>RestaurantsTableService</th>\n",
       "      <th>RestaurantsTakeOut</th>\n",
       "      <th>RestaurantsPriceRange2</th>\n",
       "      <th>OutdoorSeating</th>\n",
       "      <th>...</th>\n",
       "      <th>BYOBCorkage</th>\n",
       "      <th>DriveThru</th>\n",
       "      <th>Smoking</th>\n",
       "      <th>AgesAllowed</th>\n",
       "      <th>HairSpecializesIn</th>\n",
       "      <th>Corkage</th>\n",
       "      <th>BYOB</th>\n",
       "      <th>DietaryRestrictions</th>\n",
       "      <th>Open24Hours</th>\n",
       "      <th>RestaurantsCounterService</th>\n",
       "    </tr>\n",
       "  </thead>\n",
       "  <tbody>\n",
       "    <tr>\n",
       "      <td>0</td>\n",
       "      <td>False</td>\n",
       "      <td>NaN</td>\n",
       "      <td>NaN</td>\n",
       "      <td>NaN</td>\n",
       "      <td>NaN</td>\n",
       "      <td>NaN</td>\n",
       "      <td>NaN</td>\n",
       "      <td>NaN</td>\n",
       "      <td>NaN</td>\n",
       "      <td>NaN</td>\n",
       "      <td>...</td>\n",
       "      <td>NaN</td>\n",
       "      <td>NaN</td>\n",
       "      <td>NaN</td>\n",
       "      <td>NaN</td>\n",
       "      <td>NaN</td>\n",
       "      <td>NaN</td>\n",
       "      <td>NaN</td>\n",
       "      <td>NaN</td>\n",
       "      <td>NaN</td>\n",
       "      <td>NaN</td>\n",
       "    </tr>\n",
       "    <tr>\n",
       "      <td>1</td>\n",
       "      <td>True</td>\n",
       "      <td>True</td>\n",
       "      <td>{'dessert': False, 'latenight': False, 'lunch'...</td>\n",
       "      <td>{'garage': False, 'street': False, 'validated'...</td>\n",
       "      <td>True</td>\n",
       "      <td>u'loud'</td>\n",
       "      <td>True</td>\n",
       "      <td>True</td>\n",
       "      <td>2</td>\n",
       "      <td>False</td>\n",
       "      <td>...</td>\n",
       "      <td>NaN</td>\n",
       "      <td>NaN</td>\n",
       "      <td>NaN</td>\n",
       "      <td>NaN</td>\n",
       "      <td>NaN</td>\n",
       "      <td>NaN</td>\n",
       "      <td>NaN</td>\n",
       "      <td>NaN</td>\n",
       "      <td>NaN</td>\n",
       "      <td>NaN</td>\n",
       "    </tr>\n",
       "    <tr>\n",
       "      <td>2</td>\n",
       "      <td>True</td>\n",
       "      <td>True</td>\n",
       "      <td>{'dessert': False, 'latenight': False, 'lunch'...</td>\n",
       "      <td>{'garage': False, 'street': False, 'validated'...</td>\n",
       "      <td>False</td>\n",
       "      <td>u'average'</td>\n",
       "      <td>True</td>\n",
       "      <td>True</td>\n",
       "      <td>2</td>\n",
       "      <td>False</td>\n",
       "      <td>...</td>\n",
       "      <td>NaN</td>\n",
       "      <td>NaN</td>\n",
       "      <td>NaN</td>\n",
       "      <td>NaN</td>\n",
       "      <td>NaN</td>\n",
       "      <td>NaN</td>\n",
       "      <td>NaN</td>\n",
       "      <td>NaN</td>\n",
       "      <td>NaN</td>\n",
       "      <td>NaN</td>\n",
       "    </tr>\n",
       "  </tbody>\n",
       "</table>\n",
       "<p>3 rows × 40 columns</p>\n",
       "</div>"
      ],
      "text/plain": [
       "  GoodForKids RestaurantsReservations  \\\n",
       "0       False                     NaN   \n",
       "1        True                    True   \n",
       "2        True                    True   \n",
       "\n",
       "                                         GoodForMeal  \\\n",
       "0                                                NaN   \n",
       "1  {'dessert': False, 'latenight': False, 'lunch'...   \n",
       "2  {'dessert': False, 'latenight': False, 'lunch'...   \n",
       "\n",
       "                                     BusinessParking Caters  NoiseLevel  \\\n",
       "0                                                NaN    NaN         NaN   \n",
       "1  {'garage': False, 'street': False, 'validated'...   True     u'loud'   \n",
       "2  {'garage': False, 'street': False, 'validated'...  False  u'average'   \n",
       "\n",
       "  RestaurantsTableService RestaurantsTakeOut RestaurantsPriceRange2  \\\n",
       "0                     NaN                NaN                    NaN   \n",
       "1                    True               True                      2   \n",
       "2                    True               True                      2   \n",
       "\n",
       "  OutdoorSeating  ... BYOBCorkage DriveThru Smoking AgesAllowed  \\\n",
       "0            NaN  ...         NaN       NaN     NaN         NaN   \n",
       "1          False  ...         NaN       NaN     NaN         NaN   \n",
       "2          False  ...         NaN       NaN     NaN         NaN   \n",
       "\n",
       "  HairSpecializesIn Corkage BYOB DietaryRestrictions Open24Hours  \\\n",
       "0               NaN     NaN  NaN                 NaN         NaN   \n",
       "1               NaN     NaN  NaN                 NaN         NaN   \n",
       "2               NaN     NaN  NaN                 NaN         NaN   \n",
       "\n",
       "  RestaurantsCounterService  \n",
       "0                       NaN  \n",
       "1                       NaN  \n",
       "2                       NaN  \n",
       "\n",
       "[3 rows x 40 columns]"
      ]
     },
     "execution_count": 87,
     "metadata": {},
     "output_type": "execute_result"
    }
   ],
   "source": [
    "attributes = list(business['attributes'])\n",
    "for i in range(len(attributes)):\n",
    "    if attributes[i] == None:\n",
    "        attributes[i] = {\"NoInput\": True}\n",
    "att_df = pd.DataFrame.from_dict(attributes)\n",
    "# att_df = business['attributes'].apply(pd.Series)\n",
    "att_df.head(3)"
   ]
  },
  {
   "cell_type": "code",
   "execution_count": 88,
   "metadata": {},
   "outputs": [
    {
     "data": {
      "text/plain": [
       "(192609, 40)"
      ]
     },
     "execution_count": 88,
     "metadata": {},
     "output_type": "execute_result"
    }
   ],
   "source": [
    "att_df_final = att_df\n",
    "att_df.shape"
   ]
  },
  {
   "cell_type": "code",
   "execution_count": 102,
   "metadata": {
    "scrolled": true
   },
   "outputs": [
    {
     "data": {
      "text/plain": [
       "0                                                       NaN\n",
       "1         {'dessert': False, 'latenight': False, 'lunch'...\n",
       "2         {'dessert': False, 'latenight': False, 'lunch'...\n",
       "3                                                       NaN\n",
       "4                                                       NaN\n",
       "                                ...                        \n",
       "192604                                                  NaN\n",
       "192605                                                  NaN\n",
       "192606                                                  NaN\n",
       "192607                                                  NaN\n",
       "192608                                                  NaN\n",
       "Name: GoodForMeal, Length: 192609, dtype: object"
      ]
     },
     "execution_count": 102,
     "metadata": {},
     "output_type": "execute_result"
    }
   ],
   "source": [
    "loc = [2,3,11,23,27,34,37]\n",
    "names = list(att_df.columns)[loc[0]]\n",
    "\n",
    "for i in range(len(loc)):\n",
    "    names = list(att_df.columns)[loc[i]]\n",
    "    temp = att_df[names]\n",
    "    \n",
    "    temp.replace(np.NaN, str(\"{'NoInput': True}\"), inplace=True)\n",
    "    \n",
    "    for i in range(len(temp)):\n",
    "        temp[i] = ast.literal_eval(str(temp[i]))\n",
    "        \n",
    "    temp_df = pd.DataFrame.from_dict(list(temp))\n",
    "    \n",
    "    att_df_final = pd.concat([temp_df, att_df_final], axis=1)\n",
    "    att_df_final = att_df_final.drop(names)"
   ]
  },
  {
   "cell_type": "code",
   "execution_count": 71,
   "metadata": {},
   "outputs": [],
   "source": [
    "# meal = att_df['GoodForMeal'][0:192609]\n",
    "# meal.replace(np.NaN, str(\"{'NoInput': True}\"), inplace=True)\n",
    "\n",
    "\n",
    "# for i in range(len(meal)):\n",
    "#     meal[i] = ast.literal_eval(str(meal[i]))\n",
    "\n",
    "# meal_df = pd.DataFrame.from_dict(list(meal))\n",
    "\n",
    "# att_df_final = pd.concat([meal_df, att_df], axis=1)"
   ]
  },
  {
   "cell_type": "code",
   "execution_count": 71,
   "metadata": {},
   "outputs": [],
   "source": [
    "att_df_final.to_csv(\"data/att_data.csv\")"
   ]
  }
 ],
 "metadata": {
  "kernelspec": {
   "display_name": "Python 3",
   "language": "python",
   "name": "python3"
  },
  "language_info": {
   "codemirror_mode": {
    "name": "ipython",
    "version": 3
   },
   "file_extension": ".py",
   "mimetype": "text/x-python",
   "name": "python",
   "nbconvert_exporter": "python",
   "pygments_lexer": "ipython3",
   "version": "3.7.4"
  }
 },
 "nbformat": 4,
 "nbformat_minor": 2
}

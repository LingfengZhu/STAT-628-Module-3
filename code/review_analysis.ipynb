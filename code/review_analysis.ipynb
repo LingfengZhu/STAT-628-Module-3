{
 "cells": [
  {
   "cell_type": "code",
   "execution_count": 124,
   "metadata": {},
   "outputs": [],
   "source": [
    "import pandas as pd\n",
    "import ast\n",
    "import numpy as np"
   ]
  },
  {
   "cell_type": "code",
   "execution_count": 125,
   "metadata": {},
   "outputs": [],
   "source": [
    "mexican_token=pd.read_csv(\"mexican_token.csv\")\n",
    "word_dict=pd.read_csv(\"word_dict.csv\")\n",
    "negative_words=pd.read_csv(\"negative_words.csv\", encoding=\"latin1\",header=None)\n",
    "positive_words=pd.read_csv(\"positive_words.csv\", encoding=\"latin1\",header=None)"
   ]
  },
  {
   "cell_type": "code",
   "execution_count": 126,
   "metadata": {},
   "outputs": [],
   "source": [
    "negative_words.rename(columns={0:'negative_words'},inplace=True)\n",
    "positive_words.rename(columns={0:'positive_words'},inplace=True)"
   ]
  },
  {
   "cell_type": "code",
   "execution_count": 127,
   "metadata": {},
   "outputs": [],
   "source": [
    "positive_words=positive_words.values.tolist()\n",
    "negative_words=negative_words.values.tolist()"
   ]
  },
  {
   "cell_type": "code",
   "execution_count": 128,
   "metadata": {},
   "outputs": [],
   "source": [
    "mexican_token=mexican_token.drop(columns = \"Unnamed: 0\")"
   ]
  },
  {
   "cell_type": "code",
   "execution_count": 129,
   "metadata": {},
   "outputs": [],
   "source": [
    "word_dict=word_dict.drop(columns = \"Unnamed: 0\")"
   ]
  },
  {
   "cell_type": "code",
   "execution_count": 174,
   "metadata": {},
   "outputs": [],
   "source": [
    "def sentiment(wordlist):\n",
    "    num_rating_pos_1=[]\n",
    "    num_rating_neg_1=[]\n",
    "    num_rating_pos_2=[]\n",
    "    num_rating_neg_2=[]\n",
    "    for words in wordlist:\n",
    "        rating_pos_counts_1=0\n",
    "        rating_neg_counts_1=0\n",
    "        rating_pos_counts_2=0\n",
    "        rating_neg_counts_2=0\n",
    "        word_token_index=list(word_dict['dict_values'].loc[word_dict['dict_keys']==words])\n",
    "        for i in range(mexican_token.shape[0]):\n",
    "            counts=[]\n",
    "            if word_token_index[0] in ast.literal_eval(mexican_token['text'][i]):\n",
    "                word_index=ast.literal_eval(mexican_token['text'][i]).index(word_token_index[0])\n",
    "                for j in range(max(0, word_index-3), min(len(ast.literal_eval(mexican_token['text'][i])), word_index + 4)):\n",
    "                    if j == word_index:\n",
    "                        continue\n",
    "                    w_i=ast.literal_eval(mexican_token['text'][i])[j]\n",
    "                    w=list(word_dict['dict_keys'].loc[word_dict['dict_values']==w_i])\n",
    "                    if w in positive_words:\n",
    "                        senti=1\n",
    "                    elif w in negative_words:\n",
    "                        senti=-1\n",
    "                    else:\n",
    "                        senti=0\n",
    "                    counts.append(senti)\n",
    "            if sum(counts) > 0:\n",
    "                if mexican_token['senti'].values.tolist()[i] == 'Nega':\n",
    "                    rating_neg_counts_1 += 1\n",
    "                else:\n",
    "                    rating_pos_counts_1 += 1\n",
    "            elif sum(counts) < 0 :\n",
    "                if mexican_token['senti'].values.tolist()[i] == 'Nega':\n",
    "                    rating_neg_counts_2 += 1\n",
    "                else:\n",
    "                    rating_pos_counts_2 += 1\n",
    "        num_rating_pos_1.append(rating_pos_counts_1)\n",
    "        num_rating_neg_1.append(rating_neg_counts_1)\n",
    "        num_rating_pos_2.append(rating_pos_counts_2)\n",
    "        num_rating_neg_2.append(rating_neg_counts_2)\n",
    "    return num_rating_pos_1, num_rating_neg_1, num_rating_pos_2, num_rating_neg_2"
   ]
  },
  {
   "cell_type": "code",
   "execution_count": 135,
   "metadata": {},
   "outputs": [],
   "source": [
    "test=[\"taco\"]"
   ]
  },
  {
   "cell_type": "code",
   "execution_count": 175,
   "metadata": {},
   "outputs": [
    {
     "data": {
      "text/plain": [
       "([11832], [4577], [949], [1551])"
      ]
     },
     "execution_count": 175,
     "metadata": {},
     "output_type": "execute_result"
    }
   ],
   "source": [
    "sentiment(test)"
   ]
  }
 ],
 "metadata": {
  "kernelspec": {
   "display_name": "Python 3",
   "language": "python",
   "name": "python3"
  },
  "language_info": {
   "codemirror_mode": {
    "name": "ipython",
    "version": 3
   },
   "file_extension": ".py",
   "mimetype": "text/x-python",
   "name": "python",
   "nbconvert_exporter": "python",
   "pygments_lexer": "ipython3",
   "version": "3.7.3"
  }
 },
 "nbformat": 4,
 "nbformat_minor": 2
}

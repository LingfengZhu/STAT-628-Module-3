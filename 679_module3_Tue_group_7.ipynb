{
 "cells": [
  {
   "cell_type": "markdown",
   "metadata": {},
   "source": [
    "# Introduction and Dataset"
   ]
  },
  {
   "attachments": {},
   "cell_type": "markdown",
   "metadata": {},
   "source": [
    "## Introduction\n",
    "\n",
    "Yelp is a business directory service and crowd-sourced review forum which allows users to give reviews to businesses based on their own experience. It's easy for human to understand the sentiment behind the reviews, specifically whether a review is positive or negative, even without having any context about the business. However, there is a huge amount of reviews data on yelp, it's not realistic for business owners to go through every review by themselves to improve their performance. \n",
    "\n",
    "Our project is aimed to:\n",
    "\n",
    "1.\tProvide useful, analytical insights to business owners on Yelp and, based on these insights, propose data-driven, actionable decisions to said owners in order to improve their ratings in Yelp. \n",
    "2.\tBuild a web dashboard/widget/web application that visualizes your analysis and makes it easier to understand for business owners"
   ]
  },
  {
   "cell_type": "markdown",
   "metadata": {},
   "source": [
    "## The Dataset\n",
    "There are four datasets provided, business data, review data, tip data, and user data. We are going to focus on the analysis of attributes in the business data and the review texts in the review data of all the mexican restaurant.\n",
    "\n",
    "There are 4628 businesses who are categorized as mexican restaurant in the **business data**, we transform all the attributes into data frame and filter out the attributes with more than 90% of missing and impute the rest of missing values by using KNN (which use the majority value of the nearest 5 neighbors to substitute the missing value). Then we build linear model based on the clean business data, and give recommendations after conducting the ANOVA test. The clean data indlude the following 40 variables:\n",
    "\n",
    "|     |  |  |  |  |  |  |  |  |  |\n",
    "|------|------|------|------|------|------|------|------|------|------|\n",
    "|   business_id  | name | latitude | longitude | stars | review_count | is_open | WheelchairAccessible | RestaurantsTakeOut | RestaurantsGoodForGroups |\n",
    "| romantic | intimate | classy |  hipster  | divey | touristy | trendy |  OutdoorSeating | RestaurantsTableService | RestaurantsDelivery |\n",
    "| upscale | casual | dessert | latenight | lunch | dinner | brunch  |  breakfast | RestaurantsPriceRange2 |BusinessAcceptsCreditCards | \n",
    "| BikeParking | GoodForKids |  Caters  | NoiseLevel | HasTV | WiFi | Alcohol | park | RestaurantsReservations |  RestaurantsAttire | \n",
    "\n",
    "For the **reviews data**, "
   ]
  },
  {
   "cell_type": "markdown",
   "metadata": {},
   "source": [
    "# EDA"
   ]
  },
  {
   "cell_type": "markdown",
   "metadata": {},
   "source": [
    "# Recommendation Based on Business Attributes"
   ]
  },
  {
   "cell_type": "markdown",
   "metadata": {},
   "source": []
  },
  {
   "cell_type": "markdown",
   "metadata": {},
   "source": [
    "# Recommendation Based on Review Texts"
   ]
  },
  {
   "cell_type": "markdown",
   "metadata": {},
   "source": []
  },
  {
   "cell_type": "markdown",
   "metadata": {},
   "source": [
    "# Shinny App"
   ]
  },
  {
   "cell_type": "markdown",
   "metadata": {},
   "source": [
    "# Contributions"
   ]
  },
  {
   "cell_type": "markdown",
   "metadata": {},
   "source": [
    "Han Liao and Lingfeng Zhu: Generate recommendations based on business attributes. \n",
    "\n",
    "Qiaochu Yu and Yujie Zhang: Recommendations based on review data.\n",
    "\n",
    "Summary and app are developed by all the members."
   ]
  },
  {
   "cell_type": "markdown",
   "metadata": {},
   "source": [
    "# References"
   ]
  },
  {
   "cell_type": "markdown",
   "metadata": {},
   "source": []
  }
 ],
 "metadata": {
  "kernelspec": {
   "display_name": "R",
   "language": "R",
   "name": "ir"
  },
  "language_info": {
   "codemirror_mode": "r",
   "file_extension": ".r",
   "mimetype": "text/x-r-source",
   "name": "R",
   "pygments_lexer": "r",
   "version": "3.5.2"
  }
 },
 "nbformat": 4,
 "nbformat_minor": 2
}
